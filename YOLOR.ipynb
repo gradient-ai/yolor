{
 "cells": [
  {
   "cell_type": "markdown",
   "source": [
    "# YOLOR\n",
    "\n",
    "To set up the notebook below, run the following cells. Do not run the get_coco.sh script unless you want to train your own YOLOR model on the COCO dataset.\n",
    "You can incur a charge for going over the data storage limit, so be aware of that if you plan to download the dataset. An alternative dataset one could use is the BCCD dataset."
   ],
   "metadata": {}
  },
  {
   "cell_type": "code",
   "execution_count": null,
   "source": [
    "# Install gdown to interact with google drive through the terminal. Use it to download the yolor_csp_x.pt pretrained model weights for inference\n",
    "!pip install gdown\n",
    "!gdown https://drive.google.com/uc?id=1NbMG3ivuBQ4S8kEhFJ0FIqOQXevGje_w"
   ],
   "outputs": [],
   "metadata": {}
  },
  {
   "cell_type": "code",
   "execution_count": null,
   "source": [
    "# Run this cell to create the coco directory, and download the full coco dataset. \n",
    "# Be aware that this dataset is very large, and training will take a very long time. This is not recommended for anyone running a notebook on a free gpu,\n",
    "# as you will not be able to use coco in this short time period to make a model.\n",
    "\n",
    "# !mkdir coco\n",
    "# !cd coco\n",
    "# !bash ../scripts/get_coco.sh"
   ],
   "outputs": [],
   "metadata": {}
  },
  {
   "cell_type": "markdown",
   "source": [
    "# Inference/Object detection with the pretrained YOLOR CSP X model"
   ],
   "metadata": {}
  },
  {
   "cell_type": "code",
   "execution_count": null,
   "source": [
    "#install youtube dl to get sample videos from youtube, and opencv-python-headless to run detection script on videos in Gradient.\n",
    "!pip install youtube_dl\n",
    "!pip install opencv-python-headless"
   ],
   "outputs": [],
   "metadata": {}
  },
  {
   "cell_type": "code",
   "execution_count": null,
   "source": [
    "# Download the inputvid.mp4 video\n",
    "\n",
    "import youtube_dl\n",
    "\n",
    "url = 'https://www.youtube.com/watch?v=b8QZJ5ZodTs'\n",
    "    \n",
    "url_list = [url]\n",
    "youtube_dl.YoutubeDL({'outtmpl': 'inference/images/inputvid.mp4', 'format_id': 'worstvideo/worst', 'format': '160', 'vcodec': 'utf-8'}).download(url_list)"
   ],
   "outputs": [],
   "metadata": {}
  },
  {
   "cell_type": "code",
   "execution_count": null,
   "source": [
    "%%time\n",
    "!python detect.py --source inference/images/inputvid.mp4 --cfg cfg/yolor_csp_x.cfg --weights yolor_csp_x.pt --conf 0.25 --img-size 1280 --device 0\n"
   ],
   "outputs": [],
   "metadata": {
    "execution": {
     "iopub.execute_input": "2022-04-28T00:47:24.425000Z",
     "iopub.status.busy": "2022-04-28T00:47:24.424368Z",
     "iopub.status.idle": "2022-04-28T00:47:46.336762Z",
     "shell.execute_reply": "2022-04-28T00:47:46.336405Z",
     "shell.execute_reply.started": "2022-04-28T00:47:24.424977Z"
    }
   }
  },
  {
   "cell_type": "code",
   "execution_count": null,
   "source": [
    "!python train.py --batch-size 2 --img 1280 1280 --data data/coco.yaml --cfg cfg/yolor_csp_x.cfg --weights '' --device 0 --name yolor_csp_x_run1 --hyp data/hyp.scratch.1280.yaml --epochs 300\n"
   ],
   "outputs": [],
   "metadata": {
    "execution": {
     "iopub.execute_input": "2022-04-26T00:47:04.725479Z",
     "iopub.status.busy": "2022-04-26T00:47:04.724805Z",
     "iopub.status.idle": "2022-04-26T00:47:36.564977Z",
     "shell.execute_reply": "2022-04-26T00:47:36.564444Z",
     "shell.execute_reply.started": "2022-04-26T00:47:04.725417Z"
    }
   }
  },
  {
   "cell_type": "code",
   "execution_count": null,
   "source": [
    "!python train.py --batch-size 2 --img 1280 1280 --data data/coco.yaml --cfg cfg/yolor_csp_x.cfg --weights '' --device 0 --name yolor_csp_x_ --hyp data/hyp.scratch.1280.yaml --epochs 300\n",
    "\n"
   ],
   "outputs": [],
   "metadata": {
    "execution": {
     "iopub.execute_input": "2022-04-27T00:42:54.460636Z",
     "iopub.status.busy": "2022-04-27T00:42:54.460406Z",
     "iopub.status.idle": "2022-04-27T00:44:44.255501Z",
     "shell.execute_reply": "2022-04-27T00:44:44.254935Z",
     "shell.execute_reply.started": "2022-04-27T00:42:54.460610Z"
    }
   }
  }
 ],
 "metadata": {
  "kernelspec": {
   "display_name": "Python 3 (ipykernel)",
   "language": "python",
   "name": "python3"
  },
  "language_info": {
   "codemirror_mode": {
    "name": "ipython",
    "version": 3
   },
   "file_extension": ".py",
   "mimetype": "text/x-python",
   "name": "python",
   "nbconvert_exporter": "python",
   "pygments_lexer": "ipython3",
   "version": "3.8.12"
  }
 },
 "nbformat": 4,
 "nbformat_minor": 5
}